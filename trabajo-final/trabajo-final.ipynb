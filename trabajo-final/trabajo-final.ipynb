{
 "cells": [
  {
   "cell_type": "markdown",
   "metadata": {},
   "source": [
    "# Tarea Almacenamiento y captura de datos\n",
    "\n",
    "> Integrantes: Thamara López, Fabián Ortega\n",
    "\n",
    "Realice un proceso de web scraping para el sitio https://jetsmart.com/cl/es/. Para ello realice las siguientes tareas:  \n",
    "\n",
    "1) Utilizar Selenium para emular un navegador y cargar la página requerida (1 punto).  \n",
    "2) Buscar vuelos desde Santiago a Arica del 1 de febrero al 28 de febrero utilizando los campos de inputs del buscador de la página (1 punto).\n",
    "3) Una vez en la página de resultados, extraiga la información de precios y fechas de vuelos de ida y de vuelta para todos los días de febrero y genere un dataframe con la información de precios y fechas (2 puntos).  \n",
    "4) Crear una base de datos sqlite con la información del dataframe (1 punto).  \n",
    "5) Realizar una consulta SQL para seleccionar los vuelos de ida y vuelta con el precio total mínimo (1 punto).  \n",
    "\n",
    "Utilizando la API de Twitter, realice las siguientes tareas:\n",
    "\n",
    "1) Extraer los últimos 1.000 tweets de tu usuario preferido que escriba en español (1 punto).  \n",
    "2) Hacer un análisis de frecuencia de palabras (100 palabras más frecuentes), habiendo removido primero stopwords y usando tokenización en español (2 puntos).  \n",
    "3) Extraer 100 usuarios con perfil público que son seguidos por su usuario de preferencia y extraer los últimos 10 tweets de cada uno de esos usuarios (1 punto).  \n",
    "4) Hacer un análisis de frecuencia de palabras igual al de la parte b) (100 palabras más frecuentes), de los tweets extraídos en la parte c) (2 puntos).   \n",
    "\n",
    "\n",
    "\n",
    "\n",
    "Cada pregunta tiene una escala de 1 a 7. El promedio de ambas preguntas resulta en la nota final de la tarea. "
   ]
  },
  {
   "cell_type": "code",
   "execution_count": 79,
   "metadata": {},
   "outputs": [],
   "source": [
    "from selenium import webdriver\n",
    "from selenium.webdriver.common.keys import Keys\n",
    "from webdriver_manager.chrome import ChromeDriverManager\n",
    "from selenium.webdriver.support.ui import WebDriverWait\n",
    "from selenium.webdriver.support import expected_conditions as EC\n",
    "from selenium.webdriver.common.by import By\n",
    "import time\n",
    "import pandas as pd\n",
    "import numpy as np\n",
    "import re"
   ]
  },
  {
   "cell_type": "code",
   "execution_count": 76,
   "metadata": {},
   "outputs": [],
   "source": [
    "def ClickOn(xpath, error=True, time_sleep=2):\n",
    "    '''Función para hacer click según xpath'''\n",
    "    try: \n",
    "        WebDriverWait(driver, 5)\\\n",
    "            .until(EC.element_to_be_clickable((By.XPATH,\n",
    "                                            xpath)))\\\n",
    "            .click()\n",
    "        time.sleep(time_sleep)\n",
    "    except:\n",
    "        if error == True:\n",
    "            raise('Error')\n",
    "        else:\n",
    "            pass\n",
    "\n",
    "def SendKey(xpath, key,error=True, time_sleep=2):\n",
    "    '''Función para enviar keys a input  según xpath'''\n",
    "    try: \n",
    "        WebDriverWait(driver, 5)\\\n",
    "            .until(EC.element_to_be_clickable((By.XPATH,\n",
    "                                            xpath)))\\\n",
    "            .send_keys(key)\n",
    "        time.sleep(time_sleep)\n",
    "    except:\n",
    "        if error == True:\n",
    "            raise('Error')\n",
    "        else:\n",
    "            pass\n",
    "\n",
    "def Find(xpath):\n",
    "    txt = driver.find_element_by_xpath(xpath)\n",
    "\n",
    "    return txt.text\n",
    "\n",
    "\n",
    "\n",
    "    "
   ]
  },
  {
   "cell_type": "code",
   "execution_count": 89,
   "metadata": {},
   "outputs": [
    {
     "name": "stderr",
     "output_type": "stream",
     "text": [
      "\n",
      "\n",
      "====== WebDriver manager ======\n",
      "Current google-chrome version is 96.0.4664\n",
      "Get LATEST chromedriver version for 96.0.4664 google-chrome\n",
      "Driver [/Users/fabianalexis/.wdm/drivers/chromedriver/mac64/96.0.4664.45/chromedriver] found in cache\n"
     ]
    }
   ],
   "source": [
    "options =  webdriver.ChromeOptions()\n",
    "options.add_argument('--start-maximized')\n",
    "options.add_argument('--disable-extensions')\n",
    "driver = webdriver.Chrome(ChromeDriverManager().install(), chrome_options=options)\n",
    "driver.implicitly_wait(3)"
   ]
  },
  {
   "cell_type": "code",
   "execution_count": 25,
   "metadata": {},
   "outputs": [],
   "source": [
    "btn_close = '/html/body/div[1]/main/div[7]/div/div[6]/div/div/div[1]/button'"
   ]
  },
  {
   "cell_type": "code",
   "execution_count": 90,
   "metadata": {},
   "outputs": [],
   "source": [
    "driver.get('https://jetsmart.com/cl/es/')\n",
    "time.sleep(5)\n",
    "ClickOn(btn_close, error=False)"
   ]
  },
  {
   "cell_type": "code",
   "execution_count": 92,
   "metadata": {},
   "outputs": [],
   "source": [
    "origen = '/html/body/div[1]/main/div[2]/searchbox/div/div/div[1]/div/form/route-selector/div[1]/input[1]'\n",
    "scl = '/html/body/div[1]/main/div[2]/searchbox/div/div/div[1]/div/form/route-selector/div[2]/div[3]/ul/li[1]'\n",
    "destino = '/html/body/div[1]/main/div[2]/searchbox/div/div/div[1]/div/form/route-selector/div[1]/input[2]'\n",
    "ar = '/html/body/div[1]/main/div[2]/searchbox/div/div/div[1]/div/form/route-selector/div[2]/div[3]/ul/li[2]'\n",
    "next_month = '/html/body/div[1]/main/div[2]/searchbox/div/div/div[1]/div/form/date-selector/div[3]/div[2]/div/div[1]/span[2]'\n",
    "fecha_inicio = '/html/body/div[1]/main/div[2]/searchbox/div/div/div[1]/div/form/date-selector/div[3]/div[2]/div/div[2]/div/div[2]/div[2]/span[2]'\n",
    "fecha_termino = '/html/body/div[1]/main/div[2]/searchbox/div/div/div[1]/div/form/date-selector/div[4]/div[2]/div/div[2]/div/div[2]/div[1]/span[3]'\n",
    "search = '/html/body/div[1]/main/div[2]/searchbox/div/div/div[1]/div/form/div[2]/button'\n",
    "\n",
    "ClickOn(origen)\n",
    "ClickOn(scl)\n",
    "ClickOn(destino)\n",
    "ClickOn(ar)\n",
    "ClickOn(next_month)\n",
    "ClickOn(fecha_inicio)\n",
    "ClickOn(fecha_termino)\n",
    "ClickOn(search)"
   ]
  },
  {
   "cell_type": "code",
   "execution_count": 54,
   "metadata": {},
   "outputs": [],
   "source": [
    "price_dict = {}"
   ]
  },
  {
   "cell_type": "code",
   "execution_count": 55,
   "metadata": {},
   "outputs": [
    {
     "name": "stdout",
     "output_type": "stream",
     "text": [
      "$ 46.000\n",
      "Mié 02-02\n"
     ]
    }
   ],
   "source": [
    "price = driver.find_element_by_xpath(precio_ida)\n",
    "date = driver.find_element_by_xpath(fecha)\n",
    "\n",
    "\n",
    "price = price.text.replace('$ ','').replace('.', '')\n",
    "date = re.sub(\".* \", \"\",date.text)\n",
    "\n",
    "price_dict[date] = price"
   ]
  },
  {
   "cell_type": "code",
   "execution_count": null,
   "metadata": {},
   "outputs": [],
   "source": [
    "fecha = '/html/body/app/div/div/div[2]/div/section/div/dummy-flight/ac-flight-page/div/form[1]/div[1]/section/div[1]/ac-flight-fee-option-list/div[2]/header/div/div[1]/label/span'\n",
    "precio_ida = '/html/body/app/div/div/div[2]/div/section/div/dummy-flight/ac-flight-page/div/form[1]/div[1]/section/div[1]/ac-flight-fee-option-list/div[2]/ul/ac-flight-fee-option[1]/li/div/div/div/div/div[2]/div[2]/ac-flight-fare/div/div[1]/div'\n",
    "next_btn = '/html/body/app/div/div/div[2]/div/section/div/dummy-flight/ac-flight-page/div/form[1]/div[1]/section/div[2]/ac-flight-fee-option-list/div[1]/div[2]'\n",
    "price_dict = {}\n",
    "i = 0\n",
    "while i < 28:\n",
    "    price_ida = Find(precio_ida)\n",
    "    date_ida = Find(fecha)\n",
    "    print(date_ida)\n",
    "\n",
    "    price_ida = price_ida.replace('$ ','').replace('.', '')\n",
    "    date_ida = re.sub(\".* \", \"\",date_ida)\n",
    "\n",
    "    price_dict[date_ida] = price_ida\n",
    "\n",
    "    ClickOn(next_btn)\n",
    "    i = np.int(date_ida.replace('-02',\"\"))\n",
    "\n",
    "    ## Problema boton next no cambia, más tiempo?"
   ]
  }
 ],
 "metadata": {
  "interpreter": {
   "hash": "1095f925e8e907b717622f5e09ef11db9c609095df5052e816065eb8503c42eb"
  },
  "kernelspec": {
   "display_name": "Python 3.9.7 64-bit ('almacenamiento-captura-datos': conda)",
   "language": "python",
   "name": "python3"
  },
  "language_info": {
   "codemirror_mode": {
    "name": "ipython",
    "version": 3
   },
   "file_extension": ".py",
   "mimetype": "text/x-python",
   "name": "python",
   "nbconvert_exporter": "python",
   "pygments_lexer": "ipython3",
   "version": "3.9.7"
  },
  "orig_nbformat": 4
 },
 "nbformat": 4,
 "nbformat_minor": 2
}
