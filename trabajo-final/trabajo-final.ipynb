{
 "cells": [
  {
   "cell_type": "markdown",
   "metadata": {},
   "source": [
    "# Tarea Almacenamiento y captura de datos\n",
    "\n",
    "> Integrantes: Thamara López, Fabián Ortega\n",
    "\n",
    "Realice un proceso de web scraping para el sitio https://jetsmart.com/cl/es/. Para ello realice las siguientes tareas:  \n",
    "\n",
    "1) Utilizar Selenium para emular un navegador y cargar la página requerida (1 punto).  \n",
    "2) Buscar vuelos desde Santiago a Arica del 1 de febrero al 28 de febrero utilizando los campos de inputs del buscador de la página (1 punto).\n",
    "3) Una vez en la página de resultados, extraiga la información de precios y fechas de vuelos de ida y de vuelta para todos los días de febrero y genere un dataframe con la información de precios y fechas (2 puntos).  \n",
    "4) Crear una base de datos sqlite con la información del dataframe (1 punto).  \n",
    "5) Realizar una consulta SQL para seleccionar los vuelos de ida y vuelta con el precio total mínimo (1 punto).  \n",
    "\n",
    "Utilizando la API de Twitter, realice las siguientes tareas:\n",
    "\n",
    "1) Extraer los últimos 1.000 tweets de tu usuario preferido que escriba en español (1 punto).  \n",
    "2) Hacer un análisis de frecuencia de palabras (100 palabras más frecuentes), habiendo removido primero stopwords y usando tokenización en español (2 puntos).  \n",
    "3) Extraer 100 usuarios con perfil público que son seguidos por su usuario de preferencia y extraer los últimos 10 tweets de cada uno de esos usuarios (1 punto).  \n",
    "4) Hacer un análisis de frecuencia de palabras igual al de la parte b) (100 palabras más frecuentes), de los tweets extraídos en la parte c) (2 puntos).   \n",
    "\n",
    "\n",
    "\n",
    "\n",
    "Cada pregunta tiene una escala de 1 a 7. El promedio de ambas preguntas resulta en la nota final de la tarea. "
   ]
  },
  {
   "cell_type": "code",
   "execution_count": 70,
   "metadata": {},
   "outputs": [],
   "source": [
    "from selenium import webdriver\n",
    "from webdriver_manager.chrome import ChromeDriverManager\n",
    "from selenium.webdriver.support.ui import WebDriverWait\n",
    "from selenium.webdriver.support import expected_conditions as EC\n",
    "from selenium.webdriver.common.by import By\n",
    "import time\n",
    "import pandas as pd\n",
    "import re\n",
    "import sqlite3 as sql"
   ]
  },
  {
   "cell_type": "markdown",
   "metadata": {},
   "source": [
    "Funciones auxiliares para simplificar el scraping"
   ]
  },
  {
   "cell_type": "code",
   "execution_count": 3,
   "metadata": {},
   "outputs": [],
   "source": [
    "def ClickOn(xpath, error=True, time_sleep=2):\n",
    "    '''Función para hacer click según xpath'''\n",
    "    try: \n",
    "        WebDriverWait(driver, 5)\\\n",
    "            .until(EC.element_to_be_clickable((By.XPATH,\n",
    "                                            xpath)))\\\n",
    "            .click()\n",
    "        time.sleep(time_sleep)\n",
    "    except:\n",
    "        if error == True:\n",
    "            raise('Error')\n",
    "        else:\n",
    "            pass\n",
    "\n",
    "def SendKey(xpath, key,error=True, time_sleep=2):\n",
    "    '''Función para enviar keys a input  según xpath'''\n",
    "    try: \n",
    "        WebDriverWait(driver, 5)\\\n",
    "            .until(EC.element_to_be_clickable((By.XPATH,\n",
    "                                            xpath)))\\\n",
    "            .send_keys(key)\n",
    "        time.sleep(time_sleep)\n",
    "    except:\n",
    "        if error == True:\n",
    "            raise('Error')\n",
    "        else:\n",
    "            pass\n",
    "\n",
    "def Find(xpath):\n",
    "    txt = driver.find_element_by_xpath(xpath)\n",
    "\n",
    "    return txt.text\n",
    "    "
   ]
  },
  {
   "cell_type": "markdown",
   "metadata": {},
   "source": [
    "Creamos driver"
   ]
  },
  {
   "cell_type": "code",
   "execution_count": 19,
   "metadata": {},
   "outputs": [
    {
     "name": "stderr",
     "output_type": "stream",
     "text": [
      "\n",
      "\n",
      "====== WebDriver manager ======\n",
      "Current google-chrome version is 96.0.4664\n",
      "Get LATEST chromedriver version for 96.0.4664 google-chrome\n",
      "Driver [/Users/fabianalexis/.wdm/drivers/chromedriver/mac64/96.0.4664.45/chromedriver] found in cache\n",
      "/var/folders/l4/br6xdwsn3wj7ntybwy6zwmvh0000gn/T/ipykernel_87194/2803746617.py:4: DeprecationWarning: use options instead of chrome_options\n",
      "  driver = webdriver.Chrome(ChromeDriverManager().install(), chrome_options=options)\n"
     ]
    }
   ],
   "source": [
    "options =  webdriver.ChromeOptions()\n",
    "options.add_argument('--start-maximized')\n",
    "options.add_argument('--disable-extensions')\n",
    "driver = webdriver.Chrome(ChromeDriverManager().install(), chrome_options=options)\n",
    "driver.implicitly_wait(3)"
   ]
  },
  {
   "cell_type": "code",
   "execution_count": 11,
   "metadata": {},
   "outputs": [],
   "source": [
    "# Xpath del botón de cierre del modal que aparece al entrar en la página\n",
    "btn_close = '/html/body/div[1]/main/div[7]/div/div[6]/div/div/div[1]/button'\n",
    "# Página jetsmart\n",
    "driver.get('https://jetsmart.com/cl/es/')\n",
    "time.sleep(5)\n",
    "ClickOn(btn_close, error=False) # función para hacer click por xpath"
   ]
  },
  {
   "cell_type": "code",
   "execution_count": 40,
   "metadata": {},
   "outputs": [],
   "source": [
    "# Xpaths\n",
    "origen = '/html/body/div[1]/main/div[2]/searchbox/div/div/div[1]/div/form/route-selector/div[1]/input[1]'\n",
    "scl = '/html/body/div[1]/main/div[2]/searchbox/div/div/div[1]/div/form/route-selector/div[2]/div[3]/ul/li[1]'\n",
    "destino = '/html/body/div[1]/main/div[2]/searchbox/div/div/div[1]/div/form/route-selector/div[1]/input[2]'\n",
    "ar = '/html/body/div[1]/main/div[2]/searchbox/div/div/div[1]/div/form/route-selector/div[2]/div[3]/ul/li[2]'\n",
    "next_month = '/html/body/div[1]/main/div[2]/searchbox/div/div/div[1]/div/form/date-selector/div[3]/div[2]/div/div[1]/span[2]'\n",
    "fecha_inicio = '/html/body/div[1]/main/div[2]/searchbox/div/div/div[1]/div/form/date-selector/div[3]/div[2]/div/div[2]/div/div[2]/div[2]/span[2]'\n",
    "search = '/html/body/div[1]/main/div[2]/searchbox/div/div/div[1]/div/form/div[2]/button'\n",
    "\n",
    "# Funciones para indicar destinto y fecha de vuelos.\n",
    "ClickOn(origen)\n",
    "ClickOn(scl)\n",
    "ClickOn(destino)\n",
    "ClickOn(ar)\n",
    "ClickOn(next_month)\n",
    "ClickOn(fecha_inicio)\n",
    "ClickOn(fecha_inicio, error=False)\n",
    "ClickOn(search)"
   ]
  },
  {
   "cell_type": "markdown",
   "metadata": {},
   "source": [
    "Generamos código que scrapea en página de vuelos obteniendo el precio de ida y vuelta hasta el 28 de febrero"
   ]
  },
  {
   "cell_type": "code",
   "execution_count": 54,
   "metadata": {},
   "outputs": [
    {
     "name": "stdout",
     "output_type": "stream",
     "text": [
      "01-02\n",
      "99000\n",
      "25000\n",
      "02-02\n",
      "52000\n",
      "25000\n",
      "03-02\n",
      "52000\n",
      "46000\n",
      "04-02\n",
      "46000\n",
      "34000\n",
      "05-02\n",
      "34000\n",
      "34000\n",
      "06-02\n",
      "39000\n",
      "39000\n",
      "07-02\n",
      "39000\n",
      "34000\n",
      "08-02\n",
      "34000\n",
      "25000\n",
      "09-02\n",
      "34000\n",
      "29000\n",
      "10-02\n",
      "52000\n",
      "46000\n",
      "11-02\n",
      "39000\n",
      "29000\n",
      "12-02\n",
      "34000\n",
      "34000\n",
      "13-02\n",
      "25000\n",
      "46000\n",
      "14-02\n",
      "29000\n",
      "46000\n",
      "15-02\n",
      "34000\n",
      "52000\n",
      "16-02\n",
      "25000\n",
      "39000\n",
      "17-02\n",
      "46000\n",
      "39000\n",
      "18-02\n",
      "25000\n",
      "29000\n",
      "19-02\n",
      "29000\n",
      "39000\n",
      "20-02\n",
      "25000\n",
      "46000\n",
      "21-02\n",
      "25000\n",
      "39000\n",
      "22-02\n",
      "25000\n",
      "34000\n",
      "23-02\n",
      "25000\n",
      "29000\n",
      "24-02\n",
      "39000\n",
      "39000\n",
      "25-02\n",
      "25000\n",
      "29000\n",
      "26-02\n",
      "29000\n",
      "29000\n",
      "27-02\n",
      "25000\n",
      "29000\n",
      "28-02\n",
      "25000\n",
      "29000\n"
     ]
    }
   ],
   "source": [
    "fecha = '/html/body/app/div/div/div[2]/div/section/div/dummy-flight/ac-flight-page/div/form[1]/div[1]/section/div[1]/ac-flight-fee-option-list/div[2]/header/div/div[1]/label/span'\n",
    "precio_ida = '/html/body/app/div/div/div[2]/div/section/div/dummy-flight/ac-flight-page/div/form[1]/div[1]/section/div[1]/ac-flight-fee-option-list/div[2]/ul/ac-flight-fee-option[1]/li/div/div/div/div/div[2]/div[2]/ac-flight-fare/div/div[1]/div'\n",
    "next_btn = '/html/body/app/div/div/div[2]/div/section/div/dummy-flight/ac-flight-page/div/form[1]/div[1]/section/div[1]/ac-flight-fee-option-list/div[1]/div[2]/i'\n",
    "precio_vuelta = '/html/body/app/div/div/div[2]/div/section/div/dummy-flight/ac-flight-page/div/form[1]/div[1]/section/div[2]/ac-flight-fee-option-list/div[2]/ul/ac-flight-fee-option/li/div/div/div/div/div[2]/div[2]/ac-flight-fare/div/div[1]'\n",
    "p_ida = []\n",
    "d_ida = []\n",
    "p_vuelta = []\n",
    "\n",
    "i = 0\n",
    "while i < 28:\n",
    "    # Precios de ida\n",
    "    price_ida = Find(precio_ida).replace('$ ','').replace('.', '')\n",
    "    date_ida = re.sub(\".* \", \"\",Find(fecha))\n",
    "    print(date_ida)\n",
    "    print(price_ida)\n",
    "    p_ida.append(price_ida)\n",
    "    d_ida.append(date_ida)\n",
    "\n",
    "    # Precios de vuelta\n",
    "    price_vuelta = Find(precio_vuelta).replace('$ ','').replace('.', '')\n",
    "    print(price_vuelta)\n",
    "    p_vuelta.append(price_vuelta)\n",
    "\n",
    "    ClickOn(next_btn, time_sleep=4)\n",
    "    i = int(date_ida.replace('-02',\"\"))"
   ]
  },
  {
   "cell_type": "markdown",
   "metadata": {},
   "source": [
    "Generamos dataframe con los datos scrapeados"
   ]
  },
  {
   "cell_type": "code",
   "execution_count": 157,
   "metadata": {},
   "outputs": [
    {
     "data": {
      "text/html": [
       "<div>\n",
       "<style scoped>\n",
       "    .dataframe tbody tr th:only-of-type {\n",
       "        vertical-align: middle;\n",
       "    }\n",
       "\n",
       "    .dataframe tbody tr th {\n",
       "        vertical-align: top;\n",
       "    }\n",
       "\n",
       "    .dataframe thead th {\n",
       "        text-align: right;\n",
       "    }\n",
       "</style>\n",
       "<table border=\"1\" class=\"dataframe\">\n",
       "  <thead>\n",
       "    <tr style=\"text-align: right;\">\n",
       "      <th></th>\n",
       "      <th>fecha_ida</th>\n",
       "      <th>precio_ida</th>\n",
       "      <th>fecha_vuelta</th>\n",
       "      <th>precio_vuelta</th>\n",
       "      <th>dia</th>\n",
       "      <th>mes</th>\n",
       "    </tr>\n",
       "  </thead>\n",
       "  <tbody>\n",
       "    <tr>\n",
       "      <th>0</th>\n",
       "      <td>01-02</td>\n",
       "      <td>99000</td>\n",
       "      <td>01-02</td>\n",
       "      <td>25000</td>\n",
       "      <td>01</td>\n",
       "      <td>02</td>\n",
       "    </tr>\n",
       "    <tr>\n",
       "      <th>1</th>\n",
       "      <td>02-02</td>\n",
       "      <td>52000</td>\n",
       "      <td>02-02</td>\n",
       "      <td>25000</td>\n",
       "      <td>02</td>\n",
       "      <td>02</td>\n",
       "    </tr>\n",
       "    <tr>\n",
       "      <th>2</th>\n",
       "      <td>03-02</td>\n",
       "      <td>52000</td>\n",
       "      <td>03-02</td>\n",
       "      <td>46000</td>\n",
       "      <td>03</td>\n",
       "      <td>02</td>\n",
       "    </tr>\n",
       "    <tr>\n",
       "      <th>3</th>\n",
       "      <td>04-02</td>\n",
       "      <td>46000</td>\n",
       "      <td>04-02</td>\n",
       "      <td>34000</td>\n",
       "      <td>04</td>\n",
       "      <td>02</td>\n",
       "    </tr>\n",
       "    <tr>\n",
       "      <th>4</th>\n",
       "      <td>05-02</td>\n",
       "      <td>34000</td>\n",
       "      <td>05-02</td>\n",
       "      <td>34000</td>\n",
       "      <td>05</td>\n",
       "      <td>02</td>\n",
       "    </tr>\n",
       "  </tbody>\n",
       "</table>\n",
       "</div>"
      ],
      "text/plain": [
       "  fecha_ida precio_ida fecha_vuelta precio_vuelta dia mes\n",
       "0     01-02      99000        01-02         25000  01  02\n",
       "1     02-02      52000        02-02         25000  02  02\n",
       "2     03-02      52000        03-02         46000  03  02\n",
       "3     04-02      46000        04-02         34000  04  02\n",
       "4     05-02      34000        05-02         34000  05  02"
      ]
     },
     "execution_count": 157,
     "metadata": {},
     "output_type": "execute_result"
    }
   ],
   "source": [
    "viaje = pd.DataFrame({'fecha_ida':d_ida, 'precio_ida':p_ida,\n",
    "'fecha_vuelta':d_ida, 'precio_vuelta':p_vuelta})\n",
    "# Separo fecha en día y mes\n",
    "viaje['dia'] = viaje.fecha_ida.str.split(\"-\", expand=True)[0]\n",
    "viaje['mes'] = viaje.fecha_ida.str.split(\"-\", expand=True)[1]\n",
    "viaje.head()"
   ]
  },
  {
   "cell_type": "code",
   "execution_count": 158,
   "metadata": {},
   "outputs": [],
   "source": [
    "viaje = viaje.drop(['fecha_ida', 'fecha_vuelta'], axis=1)"
   ]
  },
  {
   "cell_type": "code",
   "execution_count": 160,
   "metadata": {},
   "outputs": [
    {
     "data": {
      "text/html": [
       "<div>\n",
       "<style scoped>\n",
       "    .dataframe tbody tr th:only-of-type {\n",
       "        vertical-align: middle;\n",
       "    }\n",
       "\n",
       "    .dataframe tbody tr th {\n",
       "        vertical-align: top;\n",
       "    }\n",
       "\n",
       "    .dataframe thead th {\n",
       "        text-align: right;\n",
       "    }\n",
       "</style>\n",
       "<table border=\"1\" class=\"dataframe\">\n",
       "  <thead>\n",
       "    <tr style=\"text-align: right;\">\n",
       "      <th></th>\n",
       "      <th>precio_ida</th>\n",
       "      <th>precio_vuelta</th>\n",
       "      <th>dia</th>\n",
       "      <th>mes</th>\n",
       "    </tr>\n",
       "  </thead>\n",
       "  <tbody>\n",
       "    <tr>\n",
       "      <th>0</th>\n",
       "      <td>99000</td>\n",
       "      <td>25000</td>\n",
       "      <td>1</td>\n",
       "      <td>2</td>\n",
       "    </tr>\n",
       "    <tr>\n",
       "      <th>1</th>\n",
       "      <td>52000</td>\n",
       "      <td>25000</td>\n",
       "      <td>2</td>\n",
       "      <td>2</td>\n",
       "    </tr>\n",
       "    <tr>\n",
       "      <th>2</th>\n",
       "      <td>52000</td>\n",
       "      <td>46000</td>\n",
       "      <td>3</td>\n",
       "      <td>2</td>\n",
       "    </tr>\n",
       "    <tr>\n",
       "      <th>3</th>\n",
       "      <td>46000</td>\n",
       "      <td>34000</td>\n",
       "      <td>4</td>\n",
       "      <td>2</td>\n",
       "    </tr>\n",
       "    <tr>\n",
       "      <th>4</th>\n",
       "      <td>34000</td>\n",
       "      <td>34000</td>\n",
       "      <td>5</td>\n",
       "      <td>2</td>\n",
       "    </tr>\n",
       "  </tbody>\n",
       "</table>\n",
       "</div>"
      ],
      "text/plain": [
       "  precio_ida precio_vuelta  dia  mes\n",
       "0      99000         25000    1    2\n",
       "1      52000         25000    2    2\n",
       "2      52000         46000    3    2\n",
       "3      46000         34000    4    2\n",
       "4      34000         34000    5    2"
      ]
     },
     "execution_count": 160,
     "metadata": {},
     "output_type": "execute_result"
    }
   ],
   "source": [
    "viaje.dia = viaje.dia.map(int)\n",
    "viaje.mes = viaje.mes.map(int)\n",
    "viaje.head()"
   ]
  },
  {
   "cell_type": "markdown",
   "metadata": {},
   "source": [
    "### Creamos base de datos sqlite"
   ]
  },
  {
   "cell_type": "code",
   "execution_count": 161,
   "metadata": {},
   "outputs": [],
   "source": [
    "conn = sql.connect('data/viajes.db')\n",
    "viaje.to_sql('viajes', conn)"
   ]
  },
  {
   "cell_type": "code",
   "execution_count": 162,
   "metadata": {},
   "outputs": [
    {
     "data": {
      "text/plain": [
       "<sqlite3.Cursor at 0x166410dc0>"
      ]
     },
     "execution_count": 162,
     "metadata": {},
     "output_type": "execute_result"
    }
   ],
   "source": [
    "cur = conn.cursor()\n",
    "cur.execute(\"SELECT dia, mes, precio_ida, precio_vuelta FROM  viajes\")"
   ]
  },
  {
   "cell_type": "code",
   "execution_count": 163,
   "metadata": {},
   "outputs": [
    {
     "data": {
      "text/plain": [
       "[(1, 2, '99000', '25000'),\n",
       " (2, 2, '52000', '25000'),\n",
       " (3, 2, '52000', '46000'),\n",
       " (4, 2, '46000', '34000'),\n",
       " (5, 2, '34000', '34000'),\n",
       " (6, 2, '39000', '39000'),\n",
       " (7, 2, '39000', '34000'),\n",
       " (8, 2, '34000', '25000'),\n",
       " (9, 2, '34000', '29000'),\n",
       " (10, 2, '52000', '46000')]"
      ]
     },
     "execution_count": 163,
     "metadata": {},
     "output_type": "execute_result"
    }
   ],
   "source": [
    "rows = cur.fetchall()\n",
    "rows[0:10]"
   ]
  },
  {
   "cell_type": "markdown",
   "metadata": {},
   "source": [
    "Obtengo precio de ida más bajo"
   ]
  },
  {
   "cell_type": "code",
   "execution_count": 164,
   "metadata": {},
   "outputs": [
    {
     "data": {
      "text/html": [
       "<div>\n",
       "<style scoped>\n",
       "    .dataframe tbody tr th:only-of-type {\n",
       "        vertical-align: middle;\n",
       "    }\n",
       "\n",
       "    .dataframe tbody tr th {\n",
       "        vertical-align: top;\n",
       "    }\n",
       "\n",
       "    .dataframe thead th {\n",
       "        text-align: right;\n",
       "    }\n",
       "</style>\n",
       "<table border=\"1\" class=\"dataframe\">\n",
       "  <thead>\n",
       "    <tr style=\"text-align: right;\">\n",
       "      <th></th>\n",
       "      <th>dia</th>\n",
       "      <th>precio_ida_minimo</th>\n",
       "    </tr>\n",
       "  </thead>\n",
       "  <tbody>\n",
       "    <tr>\n",
       "      <th>0</th>\n",
       "      <td>13</td>\n",
       "      <td>25000</td>\n",
       "    </tr>\n",
       "  </tbody>\n",
       "</table>\n",
       "</div>"
      ],
      "text/plain": [
       "   dia precio_ida_minimo\n",
       "0   13             25000"
      ]
     },
     "execution_count": 164,
     "metadata": {},
     "output_type": "execute_result"
    }
   ],
   "source": [
    "pd.read_sql('''SELECT  dia, MIN(precio_ida) as precio_ida_minimo\n",
    "FROM    viajes''', conn)\n",
    "## La fecha de ida con el precio minimo es el 13-02, el cual es de 25.000 clp"
   ]
  },
  {
   "cell_type": "markdown",
   "metadata": {},
   "source": [
    "Obtengo precio de vuelta más bajo según fecha de viaje de ida (viaje de vuelta no puede ser antes del día 13)"
   ]
  },
  {
   "cell_type": "code",
   "execution_count": 167,
   "metadata": {},
   "outputs": [
    {
     "data": {
      "text/html": [
       "<div>\n",
       "<style scoped>\n",
       "    .dataframe tbody tr th:only-of-type {\n",
       "        vertical-align: middle;\n",
       "    }\n",
       "\n",
       "    .dataframe tbody tr th {\n",
       "        vertical-align: top;\n",
       "    }\n",
       "\n",
       "    .dataframe thead th {\n",
       "        text-align: right;\n",
       "    }\n",
       "</style>\n",
       "<table border=\"1\" class=\"dataframe\">\n",
       "  <thead>\n",
       "    <tr style=\"text-align: right;\">\n",
       "      <th></th>\n",
       "      <th>dia</th>\n",
       "      <th>precio_ida_minimo</th>\n",
       "    </tr>\n",
       "  </thead>\n",
       "  <tbody>\n",
       "    <tr>\n",
       "      <th>0</th>\n",
       "      <td>18</td>\n",
       "      <td>29000</td>\n",
       "    </tr>\n",
       "  </tbody>\n",
       "</table>\n",
       "</div>"
      ],
      "text/plain": [
       "   dia precio_ida_minimo\n",
       "0   18             29000"
      ]
     },
     "execution_count": 167,
     "metadata": {},
     "output_type": "execute_result"
    }
   ],
   "source": [
    "pd.read_sql('''SELECT  dia, MIN(precio_vuelta) as precio_ida_minimo\n",
    "FROM    viajes\n",
    "WHERE dia >= 13''', conn)"
   ]
  },
  {
   "cell_type": "markdown",
   "metadata": {},
   "source": [
    "R: El precio de ida y vuelta más barato es de 54.000 clp"
   ]
  }
 ],
 "metadata": {
  "interpreter": {
   "hash": "1095f925e8e907b717622f5e09ef11db9c609095df5052e816065eb8503c42eb"
  },
  "kernelspec": {
   "display_name": "Python 3.9.7 64-bit ('almacenamiento-captura-datos': conda)",
   "language": "python",
   "name": "python3"
  },
  "language_info": {
   "codemirror_mode": {
    "name": "ipython",
    "version": 3
   },
   "file_extension": ".py",
   "mimetype": "text/x-python",
   "name": "python",
   "nbconvert_exporter": "python",
   "pygments_lexer": "ipython3",
   "version": "3.9.7"
  },
  "orig_nbformat": 4
 },
 "nbformat": 4,
 "nbformat_minor": 2
}
