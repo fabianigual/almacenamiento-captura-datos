{
 "cells": [
  {
   "cell_type": "markdown",
   "metadata": {},
   "source": [
    "# Tarea Almacenamiento y captura de datos\n",
    "\n",
    "> Integrantes: Thamara López, Fabián Ortega\n",
    "\n",
    "Realice un proceso de web scraping para el sitio https://jetsmart.com/cl/es/. Para ello realice las siguientes tareas:  \n",
    "\n",
    "1) Utilizar Selenium para emular un navegador y cargar la página requerida (1 punto).  \n",
    "2) Buscar vuelos desde Santiago a Arica del 1 de febrero al 28 de febrero utilizando los campos de inputs del buscador de la página (1 punto).\n",
    "3) Una vez en la página de resultados, extraiga la información de precios y fechas de vuelos de ida y de vuelta para todos los días de febrero y genere un dataframe con la información de precios y fechas (2 puntos).  \n",
    "4) Crear una base de datos sqlite con la información del dataframe (1 punto).  \n",
    "5) Realizar una consulta SQL para seleccionar los vuelos de ida y vuelta con el precio total mínimo (1 punto).  \n",
    "\n",
    "Utilizando la API de Twitter, realice las siguientes tareas:\n",
    "\n",
    "1) Extraer los últimos 1.000 tweets de tu usuario preferido que escriba en español (1 punto).  \n",
    "2) Hacer un análisis de frecuencia de palabras (100 palabras más frecuentes), habiendo removido primero stopwords y usando tokenización en español (2 puntos).  \n",
    "3) Extraer 100 usuarios con perfil público que son seguidos por su usuario de preferencia y extraer los últimos 10 tweets de cada uno de esos usuarios (1 punto).  \n",
    "4) Hacer un análisis de frecuencia de palabras igual al de la parte b) (100 palabras más frecuentes), de los tweets extraídos en la parte c) (2 puntos).   \n",
    "\n",
    "\n",
    "\n",
    "\n",
    "Cada pregunta tiene una escala de 1 a 7. El promedio de ambas preguntas resulta en la nota final de la tarea. "
   ]
  },
  {
   "cell_type": "code",
   "execution_count": 104,
   "metadata": {},
   "outputs": [],
   "source": [
    "from selenium import webdriver\n",
    "from webdriver_manager.chrome import ChromeDriverManager\n",
    "from selenium.webdriver.support.ui import WebDriverWait\n",
    "from selenium.webdriver.support import expected_conditions as EC\n",
    "from selenium.webdriver.common.by import By\n",
    "import time\n",
    "import pandas as pd\n",
    "import re\n",
    "import sqlite3 as sql"
   ]
  },
  {
   "cell_type": "markdown",
   "metadata": {},
   "source": [
    "## Scraping con Selenium"
   ]
  },
  {
   "cell_type": "markdown",
   "metadata": {},
   "source": [
    "Funciones auxiliares para simplificar el scraping"
   ]
  },
  {
   "cell_type": "code",
   "execution_count": 105,
   "metadata": {},
   "outputs": [],
   "source": [
    "def ClickOn(xpath, error=True, time_sleep=2):\n",
    "    '''Función para hacer click según xpath'''\n",
    "    try: \n",
    "        WebDriverWait(driver, 5)\\\n",
    "            .until(EC.element_to_be_clickable((By.XPATH,\n",
    "                                            xpath)))\\\n",
    "            .click()\n",
    "        time.sleep(time_sleep)\n",
    "    except:\n",
    "        if error == True:\n",
    "            raise('Error')\n",
    "        else:\n",
    "            pass\n",
    "\n",
    "def SendKey(xpath, key,error=True, time_sleep=2):\n",
    "    '''Función para enviar keys a input  según xpath'''\n",
    "    try: \n",
    "        WebDriverWait(driver, 5)\\\n",
    "            .until(EC.element_to_be_clickable((By.XPATH,\n",
    "                                            xpath)))\\\n",
    "            .send_keys(key)\n",
    "        time.sleep(time_sleep)\n",
    "    except:\n",
    "        if error == True:\n",
    "            raise('Error')\n",
    "        else:\n",
    "            pass\n",
    "\n",
    "def Find(xpath):\n",
    "    txt = driver.find_element_by_xpath(xpath)\n",
    "\n",
    "    return txt.text\n",
    "    "
   ]
  },
  {
   "cell_type": "markdown",
   "metadata": {},
   "source": [
    "Creamos driver"
   ]
  },
  {
   "cell_type": "code",
   "execution_count": 106,
   "metadata": {},
   "outputs": [
    {
     "name": "stderr",
     "output_type": "stream",
     "text": [
      "\n",
      "\n",
      "====== WebDriver manager ======\n",
      "Current google-chrome version is 97.0.4692\n",
      "Get LATEST chromedriver version for 97.0.4692 google-chrome\n",
      "Trying to download new driver from https://chromedriver.storage.googleapis.com/97.0.4692.71/chromedriver_mac64.zip\n",
      "Driver has been saved in cache [/Users/fabianalexis/.wdm/drivers/chromedriver/mac64/97.0.4692.71]\n",
      "/var/folders/l4/br6xdwsn3wj7ntybwy6zwmvh0000gn/T/ipykernel_34728/2803746617.py:4: DeprecationWarning: use options instead of chrome_options\n",
      "  driver = webdriver.Chrome(ChromeDriverManager().install(), chrome_options=options)\n"
     ]
    }
   ],
   "source": [
    "options =  webdriver.ChromeOptions()\n",
    "options.add_argument('--start-maximized')\n",
    "options.add_argument('--disable-extensions')\n",
    "driver = webdriver.Chrome(ChromeDriverManager().install(), chrome_options=options)\n",
    "driver.implicitly_wait(3)"
   ]
  },
  {
   "cell_type": "code",
   "execution_count": 107,
   "metadata": {},
   "outputs": [],
   "source": [
    "# Xpath del botón de cierre del modal que aparece al entrar en la página\n",
    "btn_close = '/html/body/div[1]/main/div[7]/div/div[6]/div/div/div[1]/button'\n",
    "modal = '/html/body/div[5]/div/div/div[2]/button[2]'\n",
    "# Página jetsmart\n",
    "driver.get('https://jetsmart.com/cl/es/')\n",
    "time.sleep(5)\n",
    "ClickOn(btn_close, error=False, time_sleep=3) # función para hacer click por xpath\n",
    "ClickOn(modal, error=False)"
   ]
  },
  {
   "cell_type": "code",
   "execution_count": 109,
   "metadata": {},
   "outputs": [],
   "source": [
    "# Xpaths\n",
    "origen = '/html/body/div[1]/main/div[2]/searchbox/div/div/div[1]/div/form/route-selector/div[1]/input[1]'\n",
    "scl = '/html/body/div[1]/main/div[2]/searchbox/div/div/div[1]/div/form/route-selector/div[2]/div[3]/ul/li[1]'\n",
    "destino = '/html/body/div[1]/main/div[2]/searchbox/div/div/div[1]/div/form/route-selector/div[1]/input[2]'\n",
    "ar = '/html/body/div[1]/main/div[2]/searchbox/div/div/div[1]/div/form/route-selector/div[2]/div[3]/ul/li[2]'\n",
    "next_month = '/html/body/div[1]/main/div[2]/searchbox/div/div/div[1]/div/form/date-selector/div[3]/div[2]/div/div[1]/span[2]'\n",
    "fecha_inicio = '/html/body/div[1]/main/div[2]/searchbox/div/div/div[1]/div/form/date-selector/div[3]/div[2]/div/div[2]/div/div[2]/div[2]/span[2]'\n",
    "search = '/html/body/div[1]/main/div[2]/searchbox/div/div/div[1]/div/form/div[2]/button'\n",
    "\n",
    "# Funciones para indicar destinto y fecha de vuelos.\n",
    "\n",
    "ClickOn(origen)\n",
    "ClickOn(scl)\n",
    "ClickOn(destino)\n",
    "ClickOn(ar)\n",
    "#ClickOn(next_month)\n",
    "ClickOn(fecha_inicio)\n",
    "ClickOn(fecha_inicio, error=False)\n",
    "ClickOn(search)"
   ]
  },
  {
   "cell_type": "markdown",
   "metadata": {},
   "source": [
    "Generamos código que scrapea en página de vuelos obteniendo el precio de ida y vuelta hasta el 28 de febrero"
   ]
  },
  {
   "cell_type": "code",
   "execution_count": 54,
   "metadata": {},
   "outputs": [
    {
     "name": "stdout",
     "output_type": "stream",
     "text": [
      "01-02\n",
      "99000\n",
      "25000\n",
      "02-02\n",
      "52000\n",
      "25000\n",
      "03-02\n",
      "52000\n",
      "46000\n",
      "04-02\n",
      "46000\n",
      "34000\n",
      "05-02\n",
      "34000\n",
      "34000\n",
      "06-02\n",
      "39000\n",
      "39000\n",
      "07-02\n",
      "39000\n",
      "34000\n",
      "08-02\n",
      "34000\n",
      "25000\n",
      "09-02\n",
      "34000\n",
      "29000\n",
      "10-02\n",
      "52000\n",
      "46000\n",
      "11-02\n",
      "39000\n",
      "29000\n",
      "12-02\n",
      "34000\n",
      "34000\n",
      "13-02\n",
      "25000\n",
      "46000\n",
      "14-02\n",
      "29000\n",
      "46000\n",
      "15-02\n",
      "34000\n",
      "52000\n",
      "16-02\n",
      "25000\n",
      "39000\n",
      "17-02\n",
      "46000\n",
      "39000\n",
      "18-02\n",
      "25000\n",
      "29000\n",
      "19-02\n",
      "29000\n",
      "39000\n",
      "20-02\n",
      "25000\n",
      "46000\n",
      "21-02\n",
      "25000\n",
      "39000\n",
      "22-02\n",
      "25000\n",
      "34000\n",
      "23-02\n",
      "25000\n",
      "29000\n",
      "24-02\n",
      "39000\n",
      "39000\n",
      "25-02\n",
      "25000\n",
      "29000\n",
      "26-02\n",
      "29000\n",
      "29000\n",
      "27-02\n",
      "25000\n",
      "29000\n",
      "28-02\n",
      "25000\n",
      "29000\n"
     ]
    }
   ],
   "source": [
    "fecha = '/html/body/app/div/div/div[2]/div/section/div/dummy-flight/ac-flight-page/div/form[1]/div[1]/section/div[1]/ac-flight-fee-option-list/div[2]/header/div/div[1]/label/span'\n",
    "precio_ida = '/html/body/app/div/div/div[2]/div/section/div/dummy-flight/ac-flight-page/div/form[1]/div[1]/section/div[1]/ac-flight-fee-option-list/div[2]/ul/ac-flight-fee-option[1]/li/div/div/div/div/div[2]/div[2]/ac-flight-fare/div/div[1]/div'\n",
    "next_btn = '/html/body/app/div/div/div[2]/div/section/div/dummy-flight/ac-flight-page/div/form[1]/div[1]/section/div[1]/ac-flight-fee-option-list/div[1]/div[2]/i'\n",
    "precio_vuelta = '/html/body/app/div/div/div[2]/div/section/div/dummy-flight/ac-flight-page/div/form[1]/div[1]/section/div[2]/ac-flight-fee-option-list/div[2]/ul/ac-flight-fee-option/li/div/div/div/div/div[2]/div[2]/ac-flight-fare/div/div[1]'\n",
    "p_ida = []\n",
    "d_ida = []\n",
    "p_vuelta = []\n",
    "\n",
    "i = 0\n",
    "while i < 28:\n",
    "    # Precios de ida\n",
    "    price_ida = Find(precio_ida).replace('$ ','').replace('.', '')\n",
    "    date_ida = re.sub(\".* \", \"\",Find(fecha))\n",
    "    print(date_ida)\n",
    "    print(price_ida)\n",
    "    p_ida.append(price_ida)\n",
    "    d_ida.append(date_ida)\n",
    "\n",
    "    # Precios de vuelta\n",
    "    price_vuelta = Find(precio_vuelta).replace('$ ','').replace('.', '')\n",
    "    print(price_vuelta)\n",
    "    p_vuelta.append(price_vuelta)\n",
    "\n",
    "    ClickOn(next_btn, time_sleep=4)\n",
    "    i = int(date_ida.replace('-02',\"\"))"
   ]
  },
  {
   "cell_type": "markdown",
   "metadata": {},
   "source": [
    "Generamos dataframe con los datos scrapeados"
   ]
  },
  {
   "cell_type": "code",
   "execution_count": 157,
   "metadata": {},
   "outputs": [
    {
     "data": {
      "text/html": [
       "<div>\n",
       "<style scoped>\n",
       "    .dataframe tbody tr th:only-of-type {\n",
       "        vertical-align: middle;\n",
       "    }\n",
       "\n",
       "    .dataframe tbody tr th {\n",
       "        vertical-align: top;\n",
       "    }\n",
       "\n",
       "    .dataframe thead th {\n",
       "        text-align: right;\n",
       "    }\n",
       "</style>\n",
       "<table border=\"1\" class=\"dataframe\">\n",
       "  <thead>\n",
       "    <tr style=\"text-align: right;\">\n",
       "      <th></th>\n",
       "      <th>fecha_ida</th>\n",
       "      <th>precio_ida</th>\n",
       "      <th>fecha_vuelta</th>\n",
       "      <th>precio_vuelta</th>\n",
       "      <th>dia</th>\n",
       "      <th>mes</th>\n",
       "    </tr>\n",
       "  </thead>\n",
       "  <tbody>\n",
       "    <tr>\n",
       "      <th>0</th>\n",
       "      <td>01-02</td>\n",
       "      <td>99000</td>\n",
       "      <td>01-02</td>\n",
       "      <td>25000</td>\n",
       "      <td>01</td>\n",
       "      <td>02</td>\n",
       "    </tr>\n",
       "    <tr>\n",
       "      <th>1</th>\n",
       "      <td>02-02</td>\n",
       "      <td>52000</td>\n",
       "      <td>02-02</td>\n",
       "      <td>25000</td>\n",
       "      <td>02</td>\n",
       "      <td>02</td>\n",
       "    </tr>\n",
       "    <tr>\n",
       "      <th>2</th>\n",
       "      <td>03-02</td>\n",
       "      <td>52000</td>\n",
       "      <td>03-02</td>\n",
       "      <td>46000</td>\n",
       "      <td>03</td>\n",
       "      <td>02</td>\n",
       "    </tr>\n",
       "    <tr>\n",
       "      <th>3</th>\n",
       "      <td>04-02</td>\n",
       "      <td>46000</td>\n",
       "      <td>04-02</td>\n",
       "      <td>34000</td>\n",
       "      <td>04</td>\n",
       "      <td>02</td>\n",
       "    </tr>\n",
       "    <tr>\n",
       "      <th>4</th>\n",
       "      <td>05-02</td>\n",
       "      <td>34000</td>\n",
       "      <td>05-02</td>\n",
       "      <td>34000</td>\n",
       "      <td>05</td>\n",
       "      <td>02</td>\n",
       "    </tr>\n",
       "  </tbody>\n",
       "</table>\n",
       "</div>"
      ],
      "text/plain": [
       "  fecha_ida precio_ida fecha_vuelta precio_vuelta dia mes\n",
       "0     01-02      99000        01-02         25000  01  02\n",
       "1     02-02      52000        02-02         25000  02  02\n",
       "2     03-02      52000        03-02         46000  03  02\n",
       "3     04-02      46000        04-02         34000  04  02\n",
       "4     05-02      34000        05-02         34000  05  02"
      ]
     },
     "execution_count": 157,
     "metadata": {},
     "output_type": "execute_result"
    }
   ],
   "source": [
    "viaje = pd.DataFrame({'fecha_ida':d_ida, 'precio_ida':p_ida,\n",
    "'fecha_vuelta':d_ida, 'precio_vuelta':p_vuelta})\n",
    "# Separo fecha en día y mes\n",
    "viaje['dia'] = viaje.fecha_ida.str.split(\"-\", expand=True)[0]\n",
    "viaje['mes'] = viaje.fecha_ida.str.split(\"-\", expand=True)[1]\n",
    "viaje.head()"
   ]
  },
  {
   "cell_type": "code",
   "execution_count": 158,
   "metadata": {},
   "outputs": [],
   "source": [
    "viaje = viaje.drop(['fecha_ida', 'fecha_vuelta'], axis=1)"
   ]
  },
  {
   "cell_type": "code",
   "execution_count": 160,
   "metadata": {},
   "outputs": [
    {
     "data": {
      "text/html": [
       "<div>\n",
       "<style scoped>\n",
       "    .dataframe tbody tr th:only-of-type {\n",
       "        vertical-align: middle;\n",
       "    }\n",
       "\n",
       "    .dataframe tbody tr th {\n",
       "        vertical-align: top;\n",
       "    }\n",
       "\n",
       "    .dataframe thead th {\n",
       "        text-align: right;\n",
       "    }\n",
       "</style>\n",
       "<table border=\"1\" class=\"dataframe\">\n",
       "  <thead>\n",
       "    <tr style=\"text-align: right;\">\n",
       "      <th></th>\n",
       "      <th>precio_ida</th>\n",
       "      <th>precio_vuelta</th>\n",
       "      <th>dia</th>\n",
       "      <th>mes</th>\n",
       "    </tr>\n",
       "  </thead>\n",
       "  <tbody>\n",
       "    <tr>\n",
       "      <th>0</th>\n",
       "      <td>99000</td>\n",
       "      <td>25000</td>\n",
       "      <td>1</td>\n",
       "      <td>2</td>\n",
       "    </tr>\n",
       "    <tr>\n",
       "      <th>1</th>\n",
       "      <td>52000</td>\n",
       "      <td>25000</td>\n",
       "      <td>2</td>\n",
       "      <td>2</td>\n",
       "    </tr>\n",
       "    <tr>\n",
       "      <th>2</th>\n",
       "      <td>52000</td>\n",
       "      <td>46000</td>\n",
       "      <td>3</td>\n",
       "      <td>2</td>\n",
       "    </tr>\n",
       "    <tr>\n",
       "      <th>3</th>\n",
       "      <td>46000</td>\n",
       "      <td>34000</td>\n",
       "      <td>4</td>\n",
       "      <td>2</td>\n",
       "    </tr>\n",
       "    <tr>\n",
       "      <th>4</th>\n",
       "      <td>34000</td>\n",
       "      <td>34000</td>\n",
       "      <td>5</td>\n",
       "      <td>2</td>\n",
       "    </tr>\n",
       "  </tbody>\n",
       "</table>\n",
       "</div>"
      ],
      "text/plain": [
       "  precio_ida precio_vuelta  dia  mes\n",
       "0      99000         25000    1    2\n",
       "1      52000         25000    2    2\n",
       "2      52000         46000    3    2\n",
       "3      46000         34000    4    2\n",
       "4      34000         34000    5    2"
      ]
     },
     "execution_count": 160,
     "metadata": {},
     "output_type": "execute_result"
    }
   ],
   "source": [
    "viaje.dia = viaje.dia.map(int)\n",
    "viaje.mes = viaje.mes.map(int)\n",
    "viaje.head()"
   ]
  },
  {
   "cell_type": "markdown",
   "metadata": {},
   "source": [
    "### Creamos base de datos sqlite"
   ]
  },
  {
   "cell_type": "code",
   "execution_count": 161,
   "metadata": {},
   "outputs": [],
   "source": [
    "conn = sql.connect('data/viajes.db')\n",
    "viaje.to_sql('viajes', conn)"
   ]
  },
  {
   "cell_type": "code",
   "execution_count": 162,
   "metadata": {},
   "outputs": [
    {
     "data": {
      "text/plain": [
       "<sqlite3.Cursor at 0x166410dc0>"
      ]
     },
     "execution_count": 162,
     "metadata": {},
     "output_type": "execute_result"
    }
   ],
   "source": [
    "cur = conn.cursor()\n",
    "cur.execute(\"SELECT dia, mes, precio_ida, precio_vuelta FROM  viajes\")"
   ]
  },
  {
   "cell_type": "code",
   "execution_count": 163,
   "metadata": {},
   "outputs": [
    {
     "data": {
      "text/plain": [
       "[(1, 2, '99000', '25000'),\n",
       " (2, 2, '52000', '25000'),\n",
       " (3, 2, '52000', '46000'),\n",
       " (4, 2, '46000', '34000'),\n",
       " (5, 2, '34000', '34000'),\n",
       " (6, 2, '39000', '39000'),\n",
       " (7, 2, '39000', '34000'),\n",
       " (8, 2, '34000', '25000'),\n",
       " (9, 2, '34000', '29000'),\n",
       " (10, 2, '52000', '46000')]"
      ]
     },
     "execution_count": 163,
     "metadata": {},
     "output_type": "execute_result"
    }
   ],
   "source": [
    "rows = cur.fetchall()\n",
    "rows[0:10]"
   ]
  },
  {
   "cell_type": "markdown",
   "metadata": {},
   "source": [
    "Obtengo precio de ida más bajo"
   ]
  },
  {
   "cell_type": "code",
   "execution_count": 164,
   "metadata": {},
   "outputs": [
    {
     "data": {
      "text/html": [
       "<div>\n",
       "<style scoped>\n",
       "    .dataframe tbody tr th:only-of-type {\n",
       "        vertical-align: middle;\n",
       "    }\n",
       "\n",
       "    .dataframe tbody tr th {\n",
       "        vertical-align: top;\n",
       "    }\n",
       "\n",
       "    .dataframe thead th {\n",
       "        text-align: right;\n",
       "    }\n",
       "</style>\n",
       "<table border=\"1\" class=\"dataframe\">\n",
       "  <thead>\n",
       "    <tr style=\"text-align: right;\">\n",
       "      <th></th>\n",
       "      <th>dia</th>\n",
       "      <th>precio_ida_minimo</th>\n",
       "    </tr>\n",
       "  </thead>\n",
       "  <tbody>\n",
       "    <tr>\n",
       "      <th>0</th>\n",
       "      <td>13</td>\n",
       "      <td>25000</td>\n",
       "    </tr>\n",
       "  </tbody>\n",
       "</table>\n",
       "</div>"
      ],
      "text/plain": [
       "   dia precio_ida_minimo\n",
       "0   13             25000"
      ]
     },
     "execution_count": 164,
     "metadata": {},
     "output_type": "execute_result"
    }
   ],
   "source": [
    "pd.read_sql('''SELECT  dia, MIN(precio_ida) as precio_ida_minimo\n",
    "FROM    viajes''', conn)\n",
    "## La fecha de ida con el precio minimo es el 13-02, el cual es de 25.000 clp"
   ]
  },
  {
   "cell_type": "markdown",
   "metadata": {},
   "source": [
    "Obtengo precio de vuelta más bajo según fecha de viaje de ida (viaje de vuelta no puede ser antes del día 13)"
   ]
  },
  {
   "cell_type": "code",
   "execution_count": 167,
   "metadata": {},
   "outputs": [
    {
     "data": {
      "text/html": [
       "<div>\n",
       "<style scoped>\n",
       "    .dataframe tbody tr th:only-of-type {\n",
       "        vertical-align: middle;\n",
       "    }\n",
       "\n",
       "    .dataframe tbody tr th {\n",
       "        vertical-align: top;\n",
       "    }\n",
       "\n",
       "    .dataframe thead th {\n",
       "        text-align: right;\n",
       "    }\n",
       "</style>\n",
       "<table border=\"1\" class=\"dataframe\">\n",
       "  <thead>\n",
       "    <tr style=\"text-align: right;\">\n",
       "      <th></th>\n",
       "      <th>dia</th>\n",
       "      <th>precio_ida_minimo</th>\n",
       "    </tr>\n",
       "  </thead>\n",
       "  <tbody>\n",
       "    <tr>\n",
       "      <th>0</th>\n",
       "      <td>18</td>\n",
       "      <td>29000</td>\n",
       "    </tr>\n",
       "  </tbody>\n",
       "</table>\n",
       "</div>"
      ],
      "text/plain": [
       "   dia precio_ida_minimo\n",
       "0   18             29000"
      ]
     },
     "execution_count": 167,
     "metadata": {},
     "output_type": "execute_result"
    }
   ],
   "source": [
    "pd.read_sql('''SELECT  dia, MIN(precio_vuelta) as precio_ida_minimo\n",
    "FROM    viajes\n",
    "WHERE dia >= 13''', conn)"
   ]
  },
  {
   "cell_type": "markdown",
   "metadata": {},
   "source": [
    "R: El precio de ida y vuelta más barato es de 54.000 clp"
   ]
  },
  {
   "cell_type": "markdown",
   "metadata": {},
   "source": [
    "## Api de Twitter"
   ]
  },
  {
   "cell_type": "code",
   "execution_count": 85,
   "metadata": {},
   "outputs": [],
   "source": [
    "import tweepy\n",
    "import nltk\n",
    "import matplotlib.pyplot as plt\n",
    "import numpy as np\n",
    "\n",
    "#nltk.download('stopwords')\n",
    "\"\"\"\n",
    "APIKEY: Kc9E3xJmZUITHEhii1i3S85iE\n",
    "APISECRET: sUVaD0VjOR5apQFWxeVjiPH0r6iZahEr622Bbq0na9ActasiuT\n",
    "BEARERTOKEN: AAAAAAAAAAAAAAAAAAAAAFQ%2BXgEAAAAA%2Bn%2BXUX4uJYuiroHFVGmsO1KU9GE%3DSK6mzHKNUOMEvYn1eXeeNN9EjdX3LXd3LdsReMJsVTyqMT9vZv\n",
    "ACCESTOKEN: 1474440209123233794-QiBVSHyk2PaWVFtzZ5pslmE0WMcZ19\n",
    "SECRETTOKEN: 21XIOqWl3dnSPue2TJoeMwf0zsRHkVZkErLKr99TAsYvv\n",
    "\"\"\"\n",
    "\n",
    "bearerToken = 'AAAAAAAAAAAAAAAAAAAAAFQ%2BXgEAAAAA%2Bn%2BXUX4uJYuiroHFVGmsO1KU9GE%3DSK6mzHKNUOMEvYn1eXeeNN9EjdX3LXd3LdsReMJsVTyqMT9vZv'\n"
   ]
  },
  {
   "cell_type": "code",
   "execution_count": 66,
   "metadata": {},
   "outputs": [],
   "source": [
    "client = tweepy.Client(bearer_token=bearerToken)"
   ]
  },
  {
   "cell_type": "code",
   "execution_count": 67,
   "metadata": {},
   "outputs": [],
   "source": [
    "cnnUser = client.get_user(username=\"Bototos\")\n",
    "usrId, name, usrName = cnnUser.data.values()"
   ]
  },
  {
   "cell_type": "code",
   "execution_count": 69,
   "metadata": {},
   "outputs": [],
   "source": [
    "cnnTweets = tweepy.Paginator(client.get_users_tweets, usrId, max_results=100).flatten(limit=1000)"
   ]
  },
  {
   "cell_type": "code",
   "execution_count": 70,
   "metadata": {},
   "outputs": [],
   "source": [
    "listTweets = [tweet for tweet in cnnTweets]  "
   ]
  },
  {
   "cell_type": "code",
   "execution_count": 71,
   "metadata": {},
   "outputs": [],
   "source": [
    "listTweets = [tweet.text for tweet in listTweets]"
   ]
  },
  {
   "cell_type": "code",
   "execution_count": 73,
   "metadata": {},
   "outputs": [],
   "source": [
    "stopwords = []\n",
    "\n",
    "# Cambiar pathFile que tengas disponible de stopwords por ruta de archivo\n",
    "pathFile = \"data/spanish\"\n",
    "with open(pathFile, \"r\", encoding=\"utf-8\") as stopwordsFile:\n",
    "    \n",
    "    for word in stopwordsFile:\n",
    "        word = word.rstrip()\n",
    "        stopwords.append(word)\n",
    "\n",
    "symbols = \"!¡?¿#@$%&/\\\\=|_°,.;:[]()^*+-\\\"“”1234567890' \\\\n\""
   ]
  },
  {
   "cell_type": "code",
   "execution_count": 74,
   "metadata": {},
   "outputs": [],
   "source": [
    "def get_dict_freq_words(listTweets):\n",
    "    dict_words = {}\n",
    "    listOfWords = []\n",
    "    for msg in listTweets:\n",
    "        # Se separan palabras por espacios\n",
    "        wordsOfMsg = msg.split(\" \")\n",
    "        # Se eliminan simbolos y palabras de parada\n",
    "\n",
    "        if wordsOfMsg:\n",
    "            for word in wordsOfMsg:\n",
    "                \n",
    "                word = word.rstrip()\n",
    "                word = word.lower()\n",
    "                word.strip(symbols)\n",
    "\n",
    "                if word != \"\" and word not in stopwords and not \"http://\" in word and not \"https://\" in word:\n",
    "                    listOfWords.append(word)\n",
    "            \n",
    "        # Se arma diccionario de frecuencia de palabras con las palabras limpias\n",
    "        for word in listOfWords:\n",
    "\n",
    "            if dict_words.get(word) is None:\n",
    "                dict_words[word] = 1\n",
    "            \n",
    "            else:\n",
    "                dict_words[word] += 1\n",
    "\n",
    "    if(dict_words.get(\"\") is not None):     # Asegurar que no queden palabras vacias\n",
    "        del dict_words[\"\"]\n",
    "    \n",
    "    return(dict_words)"
   ]
  },
  {
   "cell_type": "code",
   "execution_count": 75,
   "metadata": {},
   "outputs": [],
   "source": [
    "dict_freq_word = get_dict_freq_words(listTweets=listTweets)"
   ]
  },
  {
   "cell_type": "code",
   "execution_count": 76,
   "metadata": {},
   "outputs": [],
   "source": [
    "def sort_words_by_freq(dict_freq_word):\n",
    "    freqWordsList = dict_freq_word.items()\n",
    "    freqWordsList = list(freqWordsList)\n",
    "\n",
    "    for i in range(len(freqWordsList)):\n",
    "        for j in range(0, len(freqWordsList) - 1 - i):\n",
    "            if(freqWordsList[j][1] < freqWordsList[j + 1][1]):\n",
    "                freqWordsList[j], freqWordsList[j + 1] = freqWordsList[j + 1], freqWordsList[j]\n",
    "    \n",
    "    return freqWordsList"
   ]
  },
  {
   "cell_type": "code",
   "execution_count": 77,
   "metadata": {},
   "outputs": [],
   "source": [
    "freqWordsList = sort_words_by_freq(dict_freq_word)"
   ]
  },
  {
   "cell_type": "code",
   "execution_count": 78,
   "metadata": {},
   "outputs": [
    {
     "data": {
      "text/plain": [
       "[('rt', 115490),\n",
       " ('¿quién', 34918),\n",
       " ('@bototos', 33680),\n",
       " ('ministra', 32713),\n",
       " ('si', 28731),\n",
       " ('ministro', 21471),\n",
       " ('ruido', 19585),\n",
       " ('@sototov:', 18701),\n",
       " ('1.', 17959),\n",
       " ('gustaría', 17699),\n",
       " ('enojaría', 17699),\n",
       " ('𝗱𝗲', 17032),\n",
       " ('😍\\n\\n2.', 16248),\n",
       " ('barrio', 15834),\n",
       " ('menos', 13547),\n",
       " ('barrios', 13180),\n",
       " ('fuentes', 11270),\n",
       " ('igual', 10287),\n",
       " ('@enzillo3', 10104),\n",
       " ('gente', 10015),\n",
       " ('clase', 8923),\n",
       " ('solo', 8748),\n",
       " ('así', 8635),\n",
       " ('@paulie_alvarez', 8594),\n",
       " ('ser', 8403),\n",
       " ('pues', 8091),\n",
       " ('hacer', 8075),\n",
       " ('no.', 8060),\n",
       " ('ver', 7861),\n",
       " ('¿y', 7427),\n",
       " ('puede', 7059),\n",
       " ('mayor', 6443),\n",
       " ('densidad', 6341),\n",
       " ('ustedes', 6256),\n",
       " ('@falsochante', 6222),\n",
       " ('creo', 6134),\n",
       " ('mismo', 6054),\n",
       " ('después', 5882),\n",
       " ('mejor', 5826),\n",
       " ('ministro…', 5813),\n",
       " ('pobres', 5736),\n",
       " ('@redkiun', 5646),\n",
       " ('alguien', 5593),\n",
       " ('nadie', 5374),\n",
       " ('externas', 5153),\n",
       " ('no,', 5053),\n",
       " ('vivir', 5035),\n",
       " ('casa', 5013),\n",
       " ('@sototov', 4977),\n",
       " ('exposición', 4967),\n",
       " ('nunca', 4962),\n",
       " ('@gondan06', 4944),\n",
       " ('debe', 4876),\n",
       " ('gente,', 4792),\n",
       " ('clase.', 4716),\n",
       " ('😶', 4603),\n",
       " ('cómo', 4544),\n",
       " ('va', 4447),\n",
       " ('micros,', 4435),\n",
       " ('hace', 4411),\n",
       " ('personas', 4303),\n",
       " ('ninguna', 4129),\n",
       " ('@rxnsocialista', 4119),\n",
       " ('sé', 4070),\n",
       " ('cerca', 4060),\n",
       " ('van', 4051),\n",
       " ('diferencias', 3938),\n",
       " ('haber', 3935),\n",
       " ('@soyjota_ele', 3909),\n",
       " ('@juliocanalesl', 3909),\n",
       " ('quizás', 3889),\n",
       " ('todas', 3881),\n",
       " ('dos', 3879),\n",
       " ('𝗱…', 3872),\n",
       " ('pueden', 3871),\n",
       " ('recuerden', 3869),\n",
       " ('senador', 3867),\n",
       " ('zonas', 3794),\n",
       " ('ahora', 3793),\n",
       " ('probablemente', 3779),\n",
       " ('casi', 3728),\n",
       " ('@papapablin:', 3596),\n",
       " ('quién', 3591),\n",
       " ('@resentidaagogo', 3572),\n",
       " ('palabra', 3542),\n",
       " ('primera', 3542),\n",
       " ('aquí', 3540),\n",
       " ('fácil', 3503),\n",
       " ('voy', 3500),\n",
       " ('@lunaattt', 3487),\n",
       " ('@militaone', 3487),\n",
       " ('@pabloarostegui', 3473),\n",
       " ('@alzum1', 3473),\n",
       " ('obvio', 3457),\n",
       " ('acusación', 3441),\n",
       " ('cuáles', 3392),\n",
       " ('problema', 3391),\n",
       " ('@raglianti', 3386),\n",
       " ('ah,', 3372),\n",
       " ('👀', 3370)]"
      ]
     },
     "execution_count": 78,
     "metadata": {},
     "output_type": "execute_result"
    }
   ],
   "source": [
    "# 100 primeras palabras mas frecuentes en los 1000 ultimos tweets\n",
    "freqWordsList[:100]"
   ]
  },
  {
   "cell_type": "code",
   "execution_count": 79,
   "metadata": {},
   "outputs": [
    {
     "data": {
      "text/html": [
       "<div>\n",
       "<style scoped>\n",
       "    .dataframe tbody tr th:only-of-type {\n",
       "        vertical-align: middle;\n",
       "    }\n",
       "\n",
       "    .dataframe tbody tr th {\n",
       "        vertical-align: top;\n",
       "    }\n",
       "\n",
       "    .dataframe thead th {\n",
       "        text-align: right;\n",
       "    }\n",
       "</style>\n",
       "<table border=\"1\" class=\"dataframe\">\n",
       "  <thead>\n",
       "    <tr style=\"text-align: right;\">\n",
       "      <th></th>\n",
       "      <th>Word</th>\n",
       "      <th>n</th>\n",
       "    </tr>\n",
       "  </thead>\n",
       "  <tbody>\n",
       "    <tr>\n",
       "      <th>0</th>\n",
       "      <td>rt</td>\n",
       "      <td>115490</td>\n",
       "    </tr>\n",
       "    <tr>\n",
       "      <th>1</th>\n",
       "      <td>¿quién</td>\n",
       "      <td>34918</td>\n",
       "    </tr>\n",
       "    <tr>\n",
       "      <th>2</th>\n",
       "      <td>@bototos</td>\n",
       "      <td>33680</td>\n",
       "    </tr>\n",
       "    <tr>\n",
       "      <th>3</th>\n",
       "      <td>ministra</td>\n",
       "      <td>32713</td>\n",
       "    </tr>\n",
       "    <tr>\n",
       "      <th>4</th>\n",
       "      <td>si</td>\n",
       "      <td>28731</td>\n",
       "    </tr>\n",
       "  </tbody>\n",
       "</table>\n",
       "</div>"
      ],
      "text/plain": [
       "       Word       n\n",
       "0        rt  115490\n",
       "1    ¿quién   34918\n",
       "2  @bototos   33680\n",
       "3  ministra   32713\n",
       "4        si   28731"
      ]
     },
     "execution_count": 79,
     "metadata": {},
     "output_type": "execute_result"
    }
   ],
   "source": [
    "df = pd.DataFrame.from_records(freqWordsList[:100], columns =['Word', 'n'])\n",
    "df = df.head()\n",
    "df"
   ]
  },
  {
   "cell_type": "code",
   "execution_count": 101,
   "metadata": {},
   "outputs": [
    {
     "data": {
      "image/png": "[encoded data removed]",
      "text/plain": [
       "<Figure size 432x288 with 1 Axes>"
      ]
     },
     "metadata": {
      "needs_background": "light"
     },
     "output_type": "display_data"
    }
   ],
   "source": [
    "words = tuple(df.Word)\n",
    "y_pos = np.arange(len(words))\n",
    "n = np.array(df.n)\n",
    "\n",
    "\n",
    "plt.bar(y_pos, n, align='center', alpha=0.5)\n",
    "plt.xticks(y_pos, words)\n",
    "plt.ylabel('Frecuencia')\n",
    "plt.title('Palabras más usadas')\n",
    "\n",
    "plt.show()\n"
   ]
  },
  {
   "cell_type": "code",
   "execution_count": 99,
   "metadata": {},
   "outputs": [],
   "source": [
    "\"\"\"\n",
    "followingUsrs: Usuarios al que sigue el usuario(usrId)\n",
    "followerUsrs: Usuarios que siguen al usuario(usrId)\n",
    "\"\"\"\n",
    "\n",
    "followingUsrs = client.get_users_following(id=usrId)\n",
    "followingUsrs = followingUsrs.data\n",
    "\n",
    "usersId = [user.id for user in followingUsrs]"
   ]
  },
  {
   "cell_type": "code",
   "execution_count": 100,
   "metadata": {},
   "outputs": [],
   "source": [
    "tweetsPerUsers = []\n",
    "\n",
    "for id in usersId:\n",
    "    tweets = client.get_users_tweets(id=id, max_results=10)\n",
    "    tweets = tweets.data\n",
    "    \n",
    "    if tweets:\n",
    "        tweetsPerUsers.append(tweets)"
   ]
  },
  {
   "cell_type": "code",
   "execution_count": 102,
   "metadata": {},
   "outputs": [],
   "source": [
    "listTweets = []\n",
    "\n",
    "for tweets in tweetsPerUsers:\n",
    "    if tweets:\n",
    "        for tweet in tweets:\n",
    "            listTweets.append(tweet.text)"
   ]
  },
  {
   "cell_type": "code",
   "execution_count": 103,
   "metadata": {},
   "outputs": [],
   "source": [
    "# Se arma diccionario de palabras y frecuencias\n",
    "dict_freq_word = get_dict_freq_words(listTweets=listTweets)\n",
    "\n",
    "# Se arma lista de palabras y frecuencias ordenadas de mayor a menor por frecuencia de palabra\n",
    "freqWordsList = sort_words_by_freq(dict_freq_word)"
   ]
  },
  {
   "cell_type": "code",
   "execution_count": 30,
   "metadata": {},
   "outputs": [
    {
     "data": {
      "text/plain": [
       "[('rt', 138838),\n",
       " ('the', 104815),\n",
       " ('to', 78540),\n",
       " ('and', 59366),\n",
       " ('of', 46454),\n",
       " ('in', 41479),\n",
       " ('for', 33855),\n",
       " ('|', 33251),\n",
       " ('is', 26676),\n",
       " ('our', 23742),\n",
       " ('on', 22111),\n",
       " ('hoy', 20185),\n",
       " ('we', 20089),\n",
       " ('with', 19139),\n",
       " ('do', 18690),\n",
       " ('junto', 16458),\n",
       " ('chile', 15591),\n",
       " ('si', 14367),\n",
       " ('&amp;', 14266),\n",
       " ('are', 13416),\n",
       " ('em', 13382),\n",
       " ('casos', 13198),\n",
       " ('rights', 13129),\n",
       " ('año', 12931),\n",
       " ('dos', 12759),\n",
       " ('at', 12135),\n",
       " ('from', 11874),\n",
       " ('ministro', 11683),\n",
       " ('it', 11300),\n",
       " ('have', 11151),\n",
       " ('comuna', 10551),\n",
       " ('van', 10516),\n",
       " ('presidente', 10345),\n",
       " ('da', 10328),\n",
       " ('by', 10310),\n",
       " ('be', 10142),\n",
       " ('this', 10000),\n",
       " ('ser', 9842),\n",
       " ('👉', 9819),\n",
       " ('nueva', 9671),\n",
       " ('i', 9626),\n",
       " ('san', 9609),\n",
       " ('parte', 9524),\n",
       " ('trabajo', 9369),\n",
       " ('will', 9367),\n",
       " ('domicilio', 9171),\n",
       " ('2', 9060),\n",
       " ('proyecto', 8852),\n",
       " ('2021', 8641),\n",
       " ('años', 8609),\n",
       " ('was', 8440),\n",
       " ('conocer', 8412),\n",
       " ('invitamos', 8352),\n",
       " ('as', 8257),\n",
       " ('bomberos', 8011),\n",
       " ('that', 7998),\n",
       " ('gobierno', 7905),\n",
       " ('people', 7899),\n",
       " ('paso', 7897),\n",
       " ('@ministeriosalud:', 7876),\n",
       " ('you', 7820),\n",
       " ('all', 7814),\n",
       " ('about', 7705),\n",
       " ('-', 7633),\n",
       " ('\\n🔸', 7580),\n",
       " ('santiago', 7441),\n",
       " ('enero', 7418),\n",
       " ('voting', 7343),\n",
       " ('ley', 7321),\n",
       " ('importante', 7277),\n",
       " ('10', 7274),\n",
       " ('aquí', 7265),\n",
       " ('year', 7262),\n",
       " ('nuevo', 7060),\n",
       " ('personas', 7011),\n",
       " ('act', 7003),\n",
       " ('must', 6845),\n",
       " ('primer', 6840),\n",
       " ('gran', 6758),\n",
       " ('puedes', 6692),\n",
       " ('electoral', 6628),\n",
       " ('mil', 6491),\n",
       " ('ahora', 6476),\n",
       " ('new', 6466),\n",
       " ('#contigochv', 6444),\n",
       " ('vote', 6384),\n",
       " ('gracias', 6297),\n",
       " ('nuevos', 6296),\n",
       " ('uma', 6253),\n",
       " ('na', 6194),\n",
       " ('é', 6179),\n",
       " ('uso', 6043),\n",
       " ('esquinas', 5962),\n",
       " ('verano', 5959),\n",
       " ('carros', 5958),\n",
       " ('primera', 5955),\n",
       " ('his', 5948),\n",
       " ('an', 5924),\n",
       " ('🔴', 5879),\n",
       " ('respecto', 5875)]"
      ]
     },
     "execution_count": 30,
     "metadata": {},
     "output_type": "execute_result"
    }
   ],
   "source": [
    "freqWordsList[:100]"
   ]
  }
 ],
 "metadata": {
  "interpreter": {
   "hash": "1095f925e8e907b717622f5e09ef11db9c609095df5052e816065eb8503c42eb"
  },
  "kernelspec": {
   "display_name": "Python 3.9.7 64-bit ('almacenamiento-captura-datos': conda)",
   "language": "python",
   "name": "python3"
  },
  "language_info": {
   "codemirror_mode": {
    "name": "ipython",
    "version": 3
   },
   "file_extension": ".py",
   "mimetype": "text/x-python",
   "name": "python",
   "nbconvert_exporter": "python",
   "pygments_lexer": "ipython3",
   "version": "3.9.7"
  },
  "orig_nbformat": 4
 },
 "nbformat": 4,
 "nbformat_minor": 2
}
