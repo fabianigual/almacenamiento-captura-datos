{
 "cells": [
  {
   "cell_type": "markdown",
   "metadata": {},
   "source": [
    "### Ejercicio 1"
   ]
  },
  {
   "cell_type": "markdown",
   "metadata": {},
   "source": [
    "Lea el archivo de texto (names.txt) y cree un archivo csv (names.csv) con 1 columna de nombres y otra de apellidos."
   ]
  },
  {
   "cell_type": "code",
   "execution_count": null,
   "metadata": {},
   "outputs": [],
   "source": [
    "with open('data/names.txt') as f:\n",
    "    lines = f.readlines()\n",
    "    with open('data/names.csv', 'w') as fw:\n",
    "        fw.write('nombre , apellidods')\n",
    "        for l in lines:\n",
    "            nombre, apellido = l.split()\n",
    "            print(nombre, apellido)\n",
    "            fw.write('{},{}\\n'.format(nombre, apellido))\n",
    "            \n",
    "            ##fw.write( nombre + ',' + apellido + '\\n')\n",
    "            ##fw.write(','.join(l.split())+ '\\n')"
   ]
  },
  {
   "cell_type": "markdown",
   "metadata": {},
   "source": [
    "### Ejercicio 2"
   ]
  },
  {
   "cell_type": "markdown",
   "metadata": {},
   "source": [
    "Cuente la frecuencia de las palabras del archivo de texto el_quijote.txt y muestre las 10 palabras más frecuentes."
   ]
  },
  {
   "cell_type": "code",
   "execution_count": null,
   "metadata": {},
   "outputs": [],
   "source": [
    "with open('data/el_quijote.txt', 'r') as f:\n",
    "    content = f.read()\n",
    "    \n",
    "words = content.split()\n",
    "counter = {}\n",
    "\n",
    "for w in words:\n",
    "    if w in counter:\n",
    "        counter[w] += 1\n",
    "    else:\n",
    "        counter[w] = 0\n",
    "\n",
    "sorted_counter = sorted(counter, key=counter.get, reverse=True)\n",
    "for w in sorted_counter[:10]:\n",
    "    print(w, counter[w])"
   ]
  },
  {
   "cell_type": "code",
   "execution_count": null,
   "metadata": {},
   "outputs": [],
   "source": [
    "with open('data/el_quijote.txt', 'r', encoding='utf-8') as f:\n",
    "    content = f.read()"
   ]
  },
  {
   "cell_type": "code",
   "execution_count": null,
   "metadata": {},
   "outputs": [],
   "source": [
    "counter = {}"
   ]
  },
  {
   "cell_type": "code",
   "execution_count": null,
   "metadata": {},
   "outputs": [],
   "source": [
    "for w in words:\n",
    "    if w in counter:\n",
    "        counter[w] += 1\n",
    "    else:\n",
    "        counter[w] = 1"
   ]
  },
  {
   "cell_type": "markdown",
   "metadata": {},
   "source": [
    "#### Usando NLTK"
   ]
  },
  {
   "cell_type": "code",
   "execution_count": null,
   "metadata": {},
   "outputs": [],
   "source": [
    "!pip3 install nltk"
   ]
  },
  {
   "cell_type": "code",
   "execution_count": null,
   "metadata": {},
   "outputs": [],
   "source": [
    "from nltk.corpus import stopwords \n",
    "from nltk.tokenize.toktok import ToktokTokenizer\n",
    "from nltk.tokenize import word_tokenize, regexp_tokenize "
   ]
  },
  {
   "cell_type": "code",
   "execution_count": null,
   "metadata": {},
   "outputs": [],
   "source": [
    "import nltk\n",
    "nltk.download('stopwords')\n",
    "nltk.download('punkt')\n",
    "nltk.download('perluniprops')\n",
    "nltk.download('nonbreaking_prefixes')"
   ]
  },
  {
   "cell_type": "code",
   "execution_count": null,
   "metadata": {},
   "outputs": [],
   "source": [
    "## defecto para ingles\n",
    "word_tokens = word_tokenize(content.lower())\n",
    "len(word_tokens)"
   ]
  },
  {
   "cell_type": "code",
   "execution_count": null,
   "metadata": {},
   "outputs": [],
   "source": [
    "## no funciona bien con español, ya que no incluye acentos ni ñ\n",
    "word_tokens = regexp_tokenize(content.lower(), pattern='\\w+') \n",
    "len(word_tokens)"
   ]
  },
  {
   "cell_type": "code",
   "execution_count": null,
   "metadata": {},
   "outputs": [],
   "source": [
    "## mejor para español pero contiene caracteres como punto, comas, etc..\n",
    "toktok = ToktokTokenizer()\n",
    "word_tokens = toktok.tokenize(content.lower()) \n",
    "len(word_tokens)"
   ]
  },
  {
   "cell_type": "code",
   "execution_count": null,
   "metadata": {},
   "outputs": [],
   "source": [
    "stop_words = list(stopwords.words('spanish')) \n",
    "stop_words += [',', '.', ':', ';'] ## agregamos mas stopwords\n",
    "len(stop_words)"
   ]
  },
  {
   "cell_type": "code",
   "execution_count": null,
   "metadata": {},
   "outputs": [],
   "source": [
    "filtered_words =[w for w in word_tokens if not w in stop_words ] \n",
    "len(filtered_words)"
   ]
  },
  {
   "cell_type": "code",
   "execution_count": null,
   "metadata": {},
   "outputs": [],
   "source": [
    "from collections import Counter\n",
    "counter = Counter(filtered_words)\n",
    "counter.most_common(10)"
   ]
  },
  {
   "cell_type": "markdown",
   "metadata": {},
   "source": [
    "### Ejercicio 3"
   ]
  },
  {
   "cell_type": "code",
   "execution_count": null,
   "metadata": {},
   "outputs": [],
   "source": [
    "import csv\n",
    "\n",
    "with open('data/data-text.csv', 'r') as f:\n",
    "    reader = csv.reader(f)\n",
    "    for row in reader:\n",
    "        print(row)\n",
    "        "
   ]
  },
  {
   "cell_type": "code",
   "execution_count": null,
   "metadata": {},
   "outputs": [],
   "source": [
    "import pandas as pd\n",
    "df = pd.read_csv('data/data-text.csv')\n",
    "df"
   ]
  },
  {
   "cell_type": "code",
   "execution_count": null,
   "metadata": {},
   "outputs": [],
   "source": [
    "df.to_csv('data/data-text-copy.csv')"
   ]
  },
  {
   "cell_type": "markdown",
   "metadata": {},
   "source": [
    "### Ejercicio 4"
   ]
  },
  {
   "cell_type": "code",
   "execution_count": null,
   "metadata": {},
   "outputs": [],
   "source": [
    "import json\n",
    "\n",
    "with open('data/data-text.json') as f:\n",
    "    content = f.read()\n",
    "    data = json.loads(content)\n",
    "\n",
    "for item in data:\n",
    "    print(item)\n",
    "    break"
   ]
  },
  {
   "cell_type": "code",
   "execution_count": null,
   "metadata": {},
   "outputs": [],
   "source": [
    "type(data[0])"
   ]
  },
  {
   "cell_type": "code",
   "execution_count": null,
   "metadata": {},
   "outputs": [],
   "source": [
    "data"
   ]
  },
  {
   "cell_type": "code",
   "execution_count": null,
   "metadata": {},
   "outputs": [],
   "source": [
    "with open('file.json', 'w') as f:\n",
    "    json.dump(data, f)"
   ]
  },
  {
   "cell_type": "code",
   "execution_count": null,
   "metadata": {},
   "outputs": [],
   "source": [
    "df = pd.read_json('data/data-text.json')\n",
    "df"
   ]
  },
  {
   "cell_type": "code",
   "execution_count": null,
   "metadata": {},
   "outputs": [],
   "source": [
    "df.to_json('data/data-text-copy.json')"
   ]
  },
  {
   "cell_type": "markdown",
   "metadata": {},
   "source": [
    "### Ejercicio 5"
   ]
  },
  {
   "cell_type": "markdown",
   "metadata": {},
   "source": [
    "Cree un dataframe a partir de los datos del archivo SOWC 2014 Stat Tables_Table 9.xlsx. Las columnas del dataframe deben ser:\n",
    "columns = ['Name', 'child_labor_total', 'child_labor_male','child_labor_female', \n",
    "                             'child_marriage_married_by_15', 'child_marriage_married_by_18']\n"
   ]
  },
  {
   "cell_type": "code",
   "execution_count": null,
   "metadata": {},
   "outputs": [],
   "source": [
    "!pip install xlrd"
   ]
  },
  {
   "cell_type": "code",
   "execution_count": null,
   "metadata": {},
   "outputs": [],
   "source": [
    "import xlrd\n",
    "book = xlrd.open_workbook(\"data/SOWC 2014 Stat Tables_Table 9.xlsx\")\n",
    "\n",
    "# sheet = book.sheet_by_name(\"Table 9 \")\n",
    "sheet = book.sheet_by_index(1)\n",
    "\n",
    "print(sheet.name)\n",
    "print(sheet.nrows)\n",
    "print(sheet.ncols)"
   ]
  },
  {
   "cell_type": "code",
   "execution_count": null,
   "metadata": {},
   "outputs": [],
   "source": [
    "df = pd.DataFrame(columns = ['Name', 'child_labor_total', 'child_labor_male','child_labor_female', \n",
    "                             'child_marriage_married_by_15', 'child_marriage_married_by_18']) \n",
    "for i in range(14, 211):\n",
    "\n",
    "    # Start at 14th row, because that is where the countries begin\n",
    "    row = sheet.row_values(i)\n",
    "    \n",
    "    df = df.append({'Name' : row[1], 'child_labor_total' : row[4], 'child_labor_male' : row[6],\n",
    "                   'child_labor_female': row[8], 'child_marriage_married_by_15': row[10],\n",
    "                   'child_marriage_married_by_18': row[12]}, ignore_index=True) \n",
    "\n",
    "    if row[1] == \"Zimbabwe\":\n",
    "        break\n"
   ]
  },
  {
   "cell_type": "code",
   "execution_count": null,
   "metadata": {},
   "outputs": [],
   "source": [
    "## usando pandas"
   ]
  },
  {
   "cell_type": "code",
   "execution_count": null,
   "metadata": {},
   "outputs": [],
   "source": [
    "df = pd.read_excel(\"data/SOWC 2014 Stat Tables_Table 9.xlsx\", sheet_name=1, header=None)"
   ]
  },
  {
   "cell_type": "code",
   "execution_count": null,
   "metadata": {},
   "outputs": [],
   "source": [
    "df = df.iloc[14:211,[1,4,6,8,10,12]].reset_index(drop=True)"
   ]
  },
  {
   "cell_type": "code",
   "execution_count": null,
   "metadata": {},
   "outputs": [],
   "source": [
    "names = {\n",
    "    1: 'Name',\n",
    "    4: 'child_labor_total',\n",
    "    6: 'child_labor_male',\n",
    "    8: 'child_labor_female',\n",
    "    10: 'child_marriage_married_by_15',\n",
    "    12: 'child_marriage_married_by_18'\n",
    "    }\n",
    "\n",
    "df.rename(columns=names)"
   ]
  }
 ],
 "metadata": {
  "kernelspec": {
   "display_name": "Python 3",
   "language": "python",
   "name": "python3"
  },
  "language_info": {
   "codemirror_mode": {
    "name": "ipython",
    "version": 3
   },
   "file_extension": ".py",
   "mimetype": "text/x-python",
   "name": "python",
   "nbconvert_exporter": "python",
   "pygments_lexer": "ipython3",
   "version": "3.6.9"
  }
 },
 "nbformat": 4,
 "nbformat_minor": 4
}
